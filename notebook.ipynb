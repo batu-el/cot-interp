{
 "cells": [
  {
   "cell_type": "code",
   "execution_count": 6,
   "metadata": {},
   "outputs": [
    {
     "name": "stdout",
     "output_type": "stream",
     "text": [
      "File loaded successfully!\n"
     ]
    }
   ],
   "source": [
    "import pickle\n",
    "import os\n",
    "import torch\n",
    "\n",
    "file_path = \"all_h_all.pkl\"\n",
    "\n",
    "# Check if the file exists before loading\n",
    "if os.path.exists(file_path):\n",
    "    with open(file_path, \"rb\") as file:\n",
    "        data = pickle.load(file)  # Load the pickle file\n",
    "        print(\"File loaded successfully!\")\n",
    "else:\n",
    "    print(f\"Error: File '{file_path}' not found!\")\n"
   ]
  },
  {
   "cell_type": "code",
   "execution_count": 13,
   "metadata": {},
   "outputs": [
    {
     "data": {
      "text/plain": [
       "3584"
      ]
     },
     "execution_count": 13,
     "metadata": {},
     "output_type": "execute_result"
    }
   ],
   "source": [
    "len(data[0][0][0])"
   ]
  },
  {
   "cell_type": "code",
   "execution_count": null,
   "metadata": {},
   "outputs": [],
   "source": []
  },
  {
   "cell_type": "code",
   "execution_count": null,
   "metadata": {},
   "outputs": [
    {
     "name": "stdout",
     "output_type": "stream",
     "text": [
      "4\n",
      "3\n",
      "4\n",
      "5\n",
      "4\n",
      "4\n",
      "2\n",
      "17\n",
      "7\n",
      "4\n"
     ]
    }
   ],
   "source": [
    "num_query = len(data) #0D\n",
    "num_reasoning = len(data[0]) #1D\n",
    "num_layer = len(data[0][0]) #2D\n",
    "num_hidden = len(data[0][0][0]) #3D\n",
    "\n",
    "###\n",
    "print(\"num_query\")\n",
    "num_query = len(data)\n",
    "print(num_query)\n",
    "###\n",
    "print(\"num_reasoning\")\n",
    "for i in range(num_query):\n",
    "    num_reasoning = len(data[i])\n",
    "    print(num_reasoning)\n",
    "\n",
    "###\n",
    "print(\"num_layer\")\n",
    "for i in range(num_reasoning):\n",
    "    num_layer = len(data[i])\n",
    "    print(num_reasoning)"
   ]
  },
  {
   "cell_type": "code",
   "execution_count": 64,
   "metadata": {},
   "outputs": [
    {
     "data": {
      "text/plain": [
       "4"
      ]
     },
     "execution_count": 64,
     "metadata": {},
     "output_type": "execute_result"
    }
   ],
   "source": [
    "num_reasoning"
   ]
  },
  {
   "cell_type": "code",
   "execution_count": null,
   "metadata": {},
   "outputs": [],
   "source": [
    "torch.stack()"
   ]
  },
  {
   "cell_type": "code",
   "execution_count": null,
   "metadata": {},
   "outputs": [],
   "source": []
  },
  {
   "cell_type": "code",
   "execution_count": 46,
   "metadata": {},
   "outputs": [
    {
     "data": {
      "text/plain": [
       "3584"
      ]
     },
     "execution_count": 46,
     "metadata": {},
     "output_type": "execute_result"
    }
   ],
   "source": [
    "num_hidden"
   ]
  },
  {
   "cell_type": "code",
   "execution_count": null,
   "metadata": {},
   "outputs": [
    {
     "data": {
      "text/plain": [
       "(tensor([ 0.0015, -0.0046, -0.0084,  ..., -0.0020, -0.0009, -0.0069]),\n",
       " tensor([ 0.0098, -0.1484,  0.0293,  ..., -0.0256,  0.0244, -0.0515]),\n",
       " tensor([ 0.0449, -0.1133, -0.0317,  ..., -0.0505, -0.0247, -0.1045]),\n",
       " tensor([-0.0693, -0.1260,  0.0520,  ..., -0.0496,  0.0337, -0.0090]),\n",
       " tensor([-0.3691, -0.2324,  0.2061,  ..., -0.0933,  0.1138,  0.1001]),\n",
       " tensor([-0.4961, -0.3262,  0.1504,  ..., -0.2324,  0.3359,  0.0081]),\n",
       " tensor([-0.1748, -0.1777, -0.0098,  ..., -0.2988,  0.3848,  0.0444]),\n",
       " tensor([-0.2070, -0.1572, -0.0122,  ..., -0.4727,  0.4434,  0.3418]),\n",
       " tensor([-0.1309,  0.0742, -0.1084,  ..., -0.9219,  0.3730,  0.0598]),\n",
       " tensor([-0.7109, -0.1016, -0.2188,  ..., -1.0781,  0.0449,  0.0098]),\n",
       " tensor([ 0.1797,  0.1396, -0.1797,  ..., -0.6250, -0.1553, -0.1060]),\n",
       " tensor([-0.0020,  0.0596,  0.1123,  ..., -0.5742,  0.0586,  0.3105]),\n",
       " tensor([ 0.2598,  0.1465,  0.1045,  ..., -0.3145,  0.2441,  0.1230]),\n",
       " tensor([ 0.2520, -0.3340,  0.3516,  ..., -0.6797, -0.3750,  0.2598]),\n",
       " tensor([-0.3105, -0.6367, -0.1953,  ..., -0.6445, -0.9688,  0.4355]),\n",
       " tensor([-0.6680, -0.3672,  0.5469,  ..., -0.3066, -0.5078,  0.8320]),\n",
       " tensor([-0.2383,  0.1699,  0.4570,  ...,  0.0820, -0.1621,  0.8984]),\n",
       " tensor([-0.2324, -0.6484,  0.4004,  ...,  0.0332, -0.2949,  0.5391]),\n",
       " tensor([ 0.6953, -0.8008,  0.3164,  ...,  0.0469, -0.7891,  0.4805]),\n",
       " tensor([-0.0078, -0.6992, -0.3340,  ..., -0.4219, -0.4062,  0.1992]),\n",
       " tensor([-0.4219, -0.6016, -0.1680,  ..., -0.4453, -0.3145, -0.6797]),\n",
       " tensor([ 1.6406, -0.1484, -0.6914,  ...,  0.6758, -2.0000, -1.0625]),\n",
       " tensor([-0.2188, -0.1973,  0.3594,  ...,  1.5234, -1.9844, -0.4219]),\n",
       " tensor([-0.5000,  0.1484,  1.2188,  ...,  2.4375, -3.8438, -1.9766]),\n",
       " tensor([ 2.0938, -1.5781, -0.1562,  ...,  1.1562, -5.7812, -1.4375]),\n",
       " tensor([ 1.4062, -0.6914, -0.6523,  ...,  1.6484, -4.1250, -2.1719]),\n",
       " tensor([-0.7188, -0.4688, -1.7422,  ...,  1.5391, -2.9219, -6.5938]),\n",
       " tensor([ 3.0156, -0.3789, -5.0000,  ...,  9.0000, -2.5000, -4.5625]),\n",
       " tensor([-4.5625,  7.8125, -0.9688,  ...,  4.3750,  9.6250, -7.8750]))"
      ]
     },
     "execution_count": 31,
     "metadata": {},
     "output_type": "execute_result"
    }
   ],
   "source": [
    "query0_data = data[0]\n",
    "\n",
    "for i in range(num_reasoning):\n",
    "    len(query0_data[i])"
   ]
  },
  {
   "cell_type": "code",
   "execution_count": null,
   "metadata": {},
   "outputs": [],
   "source": []
  }
 ],
 "metadata": {
  "kernelspec": {
   "display_name": ".venv",
   "language": "python",
   "name": "python3"
  },
  "language_info": {
   "codemirror_mode": {
    "name": "ipython",
    "version": 3
   },
   "file_extension": ".py",
   "mimetype": "text/x-python",
   "name": "python",
   "nbconvert_exporter": "python",
   "pygments_lexer": "ipython3",
   "version": "3.12.6"
  }
 },
 "nbformat": 4,
 "nbformat_minor": 2
}
